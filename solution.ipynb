{
 "cells": [
 
  {
   "cell_type": "code",
   "execution_count": 2,
   "id": "4c4d1b78",
   "metadata": {},
   "outputs": [
    {
     "name": "stderr",
     "output_type": "stream",
     "text": [
      "[nltk_data] Downloading package wordnet to\n",
      "[nltk_data]     C:\\Users\\86176\\AppData\\Roaming\\nltk_data...\n",
      "[nltk_data]   Package wordnet is already up-to-date!\n"
     ]
    }
   ],
   "source": [
    "#Use this cell to import all the required libraries.\n",
    "\n",
    "#import common toolkits\n",
    "import pandas as pd\n",
    "import numpy as np\n",
    "import re\n",
    "import nltk\n",
    "import random\n",
    "import time\n",
    "import gensim.corpora as corpora\n",
    "import matplotlib.pyplot as plt\n",
    "import seaborn as sns\n",
    "import warnings\n",
    "\n",
    "#import Classifier, Scaler and Evaluation tools\n",
    "from sklearn.preprocessing import StandardScaler,LabelEncoder\n",
    "from sklearn.cluster import KMeans,AgglomerativeClustering\n",
    "from sklearn_extra.cluster import KMedoids\n",
    "from sklearn.metrics import silhouette_score,confusion_matrix,classification_report\n",
    "from sklearn.tree import DecisionTreeClassifier\n",
    "from sklearn.ensemble import RandomForestClassifier,VotingClassifier,BaggingClassifier\n",
    "from sklearn.neighbors import KNeighborsClassifier\n",
    "from sklearn.linear_model import LogisticRegression\n",
    "from sklearn.svm import SVC\n",
    "from sklearn.model_selection import cross_validate,train_test_split,cross_val_score \n",
    "from sklearn.datasets import make_classification \n",
    "from sklearn.feature_extraction.text import CountVectorizer,TfidfTransformer\n",
    "from sklearn.decomposition import TruncatedSVD\n",
    "from sklearn.naive_bayes import GaussianNB\n",
    "from sklearn.decomposition import PCA\n",
    "\n",
    "# from wordcloud import WordCloud\n",
    "#import NLP toolkits\n",
    "from nltk.tokenize import word_tokenize\n",
    "from nltk.corpus import stopwords\n",
    "from nltk.stem import WordNetLemmatizer\n",
    "from gensim.models import Word2Vec\n",
    "from vaderSentiment.vaderSentiment import SentimentIntensityAnalyzer\n",
    "from gensim.models.coherencemodel import CoherenceModel\n",
    "from gensim.models import LdaMulticore\n",
    "\n",
    "#download necessary toolkits \n",
    "nltk.download('wordnet')\n",
    "#setting for ignoring warning prompts\n",
    "warnings.filterwarnings(\"ignore\")"
   ]
  },
  {
   "cell_type": "code",
   "execution_count": 3,
   "id": "a7ce1bb4",
   "metadata": {},
   "outputs": [],
   "source": [
    "#your work should only start with the following code\n",
    "\n",
    "#read file and transform to DataFrame\n",
    "df = pd.read_excel(\"Assignment_Data.xlsx\")\n",
    "df2 = df.copy()\n"
   ]
  },
  {
   "cell_type": "markdown",
   "id": "138c61b4",
   "metadata": {},
   "source": [
    "#### <font color=\"red\"> When you are preparing your assignment, you can use as many cells as you want. However, before submitting, please ensure that you consolidate all the necessary codes for each section into a single cell according to the template requirements. Failing to follow the template will lead to a loss of marks."
   ]
  },
  {
   "cell_type": "markdown",
   "id": "e4f92cdd",
   "metadata": {},
   "source": [
    "# Data exploration"
   ]
  },
  {
   "cell_type": "markdown",
   "id": "ff404d62",
   "metadata": {
    "student_input": "exploration"
   },
   "source": [
    "    I firstly did a basic filter of the dataset, removing columns with greater than half of the empty values, and then removing rows with null values.\n",
    "    \n",
    "    It was also found that 'post_retweets', 'post_quotes' both had more than 90% 0 values, so they were removed.\n",
    "\n",
    "    A point plot was observed for 'user_mentions', and it was found that there was an almost perfect average distribution from the minimum to the maximum values (0-12), so it was determined that the data in this column did not affect the results, therefore 'user_mentions' column had been removed.\n",
    "    \n",
    "    Point plot observations were made on the other metadata and found that extreme values existed in most of the metadata, so 5% of the outlier was dropped. Ather this operation, the data became more evenly distributed and the trend of the dot plot has become more stable.\n",
    "    \n",
    "    It was also found that the remaining two columns of the post metadata() were positively correlated with misinformation, so we were prepared to extract the values of 0 and non-0 respectively, and designed a special function to facilitate the subsequent operation.\n",
    "\n"
   ]
  },
  {
   "cell_type": "code",
   "execution_count": 4,
   "id": "17031269",
   "metadata": {},
   "outputs": [],
   "source": [
    "def get_dummies_special_values(col,num):\n",
    "    '''\n",
    "    Convert a column that is decided to dummilized to a specific value,or non-specific value.\n",
    "    For example,for post_replies,0 is the specific value. index with value 0 will marked as 1.\n",
    "    It also works for opposite. An 2D-array would returned just like get_dummies() does.\n",
    "   \n",
    "    Parameters:\n",
    "    col(Series):The column in operating DataFrame.\n",
    "    num(float): The specific value to devide values.\n",
    "    \n",
    "    Return:\n",
    "    \n",
    "    '''\n",
    "    pos_output = []\n",
    "    neg_putput = []\n",
    "    col_list = col.tolist()\n",
    "    for i in range(len(col_list)):\n",
    "        if col_list[i] <= num:\n",
    "            neg_putput.append(1)\n",
    "            pos_output.append(0)\n",
    "        else:\n",
    "            pos_output.append(1)\n",
    "            neg_putput.append(0)\n",
    "    return np.vstack((pos_output, neg_putput)).transpose()\n",
    "\n",
    "#columns 'user_following' and 'user_country' missing over 50% values, dropped and reform df3.\n",
    "df3 = df2.drop(columns=['user_following','user_country']).dropna().reset_index(drop=True)\n",
    "#drop rows with null attributes.\n",
    "df4 = df3.copy().dropna()\n",
    "\n",
    "#removal for meaningless column('news_author'), and columns with too many repeated values.\n",
    "df4 = df4.drop(columns=['news_author','post_retweets','post_quotes','user_mentions'])\n",
    "df5 = df4.copy().reset_index(drop=True)\n",
    "\n",
    "#clean 5% largest outliers for user_social_columns to reduce the impact of noisy data\n",
    "df5_cleaned = df5.copy()\n",
    "user_social_columns = ['user_followers','user_friends','user_favourites','user_tweets_count','user_tweet_count_lists']\n",
    "user_outlier_margin = df5_cleaned[user_social_columns].quantile(0.95)\n",
    "for i in range(len(user_social_columns)):\n",
    "    user_condition = df5[user_social_columns[i]] <= user_outlier_margin[i]\n",
    "    df5_cleaned = df5_cleaned[user_condition]\n",
    "    \n",
    "#use df6 for further work and feature addition.\n",
    "df6 = df5_cleaned.copy().reset_index(drop=True)"
   ]
  },
  {
   "cell_type": "markdown",
   "id": "cf2be8f6",
   "metadata": {},
   "source": [
    "# Text preparation"
   ]
  },
  {
   "cell_type": "markdown",
   "id": "df251b9d",
   "metadata": {
    "student_input": "preparation"
   },
   "source": [
    "    For the Dataframes that were already preprocessed, the necessary text processing was performed: tokenlization, lowercasing, symbol removal, stopwords removal, and also lemmatisation.\n",
    "    \n",
    "    After the first-round check, wordcloud was used to find the keywords where the misinformation was true or false separately, no significant differences were found. However words that were found as main components but not meaningful were also iterated into the list of stopwords.\n",
    "    \n",
    "    A tf-idf calculation and dimensionality reduction process was performed and also analysed the sentiment values for each textual content.\n",
    "    \n",
    "    Topic probabilities were predicted for the textual content. Based on the partitioning of tweets, the number of topics was designed as 7.\n"
   ]
  },
  {
   "cell_type": "code",
   "execution_count": 5,
   "id": "fcfb6bfa",
   "metadata": {},
   "outputs": [],
   "source": [
    "related_tweet_Data = (df6[\"related_tweet\"].apply(word_tokenize)).apply(lambda x: [word.lower() for word in x])\n",
    "#add meaningless but high frequency words in the dataset,for those are detected by wordcloud.\n",
    "X_stopwords_extension=['s','amp','','u','nt']\n",
    "X_stopwords = stopwords.words(\"English\")+X_stopwords_extension\n",
    "related_tweet_Data = related_tweet_Data.apply(lambda x: [word for word in x if word not in X_stopwords]) \n",
    "related_tweet_Data = related_tweet_Data.apply(lambda tokens: [re.sub('[^a-zA-Z]', '', token) for token in tokens])\n",
    "#text-lemmatizer and put that back to sentences\n",
    "lemmatizer = WordNetLemmatizer()\n",
    "Lemmatized_related_tweet_Data = related_tweet_Data.apply(lambda x: [lemmatizer.lemmatize(word) for word in x])\n",
    "Preprocessed_tweet_Data =  [' '.join(i) for i in Lemmatized_related_tweet_Data]\n",
    "\n",
    "#generate tf-idf matrix and Dimensionality Reduction\n",
    "cv = CountVectorizer()\n",
    "bag_of_words = cv.fit_transform(Preprocessed_tweet_Data)\n",
    "tfidf_transformer = TfidfTransformer(norm=\"l2\")\n",
    "tfidf_matrix = tfidf_transformer.fit_transform(bag_of_words)\n",
    "# feature_names = cv.get_feature_names_out()\n",
    "My_SVD = TruncatedSVD(n_components=5)\n",
    "SVD_Note= My_SVD.fit_transform(tfidf_matrix)\n",
    "\n",
    "#set Sentiment Analyzer and LDA model for further feature engineering\n",
    "Tweet_sentiment_analyser = SentimentIntensityAnalyzer()\n",
    "sentimental_text_list = []\n",
    "for sentence in df6[\"related_tweet\"]:\n",
    "    text_score = Tweet_sentiment_analyser.polarity_scores(sentence)\n",
    "    sentimental_text_list.append(text_score)\n",
    "\n",
    "Tweet_id2word = corpora.Dictionary(Lemmatized_related_tweet_Data)\n",
    "corpus = [Tweet_id2word.doc2bow(text) for text in Lemmatized_related_tweet_Data]\n",
    "lda_model = LdaMulticore(corpus=corpus, id2word=Tweet_id2word,num_topics=7, random_state= 0)\n",
    "\n",
    "#Use wordcloud to identify feature words in dataset\n",
    "# #Tried to use wordcloud to analyze significant words. Result shows that wordcloud doesn't match this sample. \n",
    "# wordcloud_df = pd.DataFrame({\n",
    "#     'Preprocessed_tweet_Data' : Preprocessed_tweet_Data,\n",
    "#     'Misinformation' : df6['misinformation']\n",
    "# })\n",
    "# mis_text = wordcloud_df[wordcloud_df['Misinformation'] == 1].copy()['Preprocessed_tweet_Data'].tolist()\n",
    "# mis_text = ' '.join(mis_text)\n",
    "# true_text = wordcloud_df[wordcloud_df['Misinformation'] == 0].copy()['Preprocessed_tweet_Data'].tolist()\n",
    "# true_text = ' '.join(true_text)\n",
    "# mis_worldcloud = WordCloud(width=800, height=400, background_color='white').generate(mis_text)\n",
    "# true_worldcloud = WordCloud(width=800, height=400, background_color='white').generate(true_text)\n",
    "\n",
    "# plt.figure(figsize=(10, 5))\n",
    "# plt.subplot(1, 2, 1)\n",
    "# plt.imshow(mis_worldcloud, interpolation='bilinear')\n",
    "# plt.title('mis_worldcloud')\n",
    "# plt.axis('off')\n",
    "\n",
    "# plt.subplot(1, 2, 2)\n",
    "# plt.imshow(true_worldcloud, interpolation='bilinear')\n",
    "# plt.title('true_worldcloud')\n",
    "# plt.axis('off')\n",
    "# plt.show()"
   ]
  },
  {
   "cell_type": "markdown",
   "id": "1e5d933c",
   "metadata": {},
   "source": [
    "# Feature engineering"
   ]
  },
  {
   "cell_type": "markdown",
   "id": "07291805",
   "metadata": {
    "student_input": "feature_engineering"
   },
   "source": [
    "    Using the SVD model, the dimensionality reduced Tf-idf vectors were added to df6. After several model tests, it was found that retaining only compound socre to represent the sentiment of the text had higher accuracy. Only the Topics that the text is most likely to belong to are also selected to streamline the number of columns of feature variables.\n",
    "\n",
    "    For the post metadata type, a self-written function: get_dummies_special_values() was used to specially dummilised the metadata to distinguish whether it was zero or not.\n",
    "\n",
    "    Use the K-Mean model to convert the post metadata into a column of feature variables, which are markers for clusters. The elbow method was used to determine that K in K-Mean is best taken as 3.\n",
    "\n",
    "    For the User metadata type, principal component analysis(PCA) was used to de-quantify this data and downscale it to 3 columns.\n"
   ]
  },
  {
   "cell_type": "markdown",
   "id": "ddefd37e",
   "metadata": {},
   "source": [
    "##### Feature 1 generation: NLP Labels"
   ]
  },
  {
   "cell_type": "code",
   "execution_count": 6,
   "id": "16fcab5b",
   "metadata": {},
   "outputs": [],
   "source": [
    "#Add SVD labels into dataframe(df6)\n",
    "df6[[\"SVD1\",\"SVD2\",\"SVD3\",\"SVD4\",\"SVD5\"]] = SVD_Note\n",
    "df_Sentiment = pd.DataFrame(sentimental_text_list)\n",
    "\n",
    "#Add sentiment labels into dataframe(df6)\n",
    "df6[['neg','neu','pos','compound']] = df_Sentiment\n",
    "cm = CoherenceModel(model=lda_model, corpus=corpus, texts=Lemmatized_related_tweet_Data,dictionary=Tweet_id2word, coherence='u_mass')\n",
    "coherence = cm.get_coherence() \n",
    "\n",
    "#calculate topic probabilities,then add the most-probable topic label into dataframe(df6)\n",
    "topic_probabilities = list(lda_model.get_document_topics(bow=corpus,minimum_probability=0.05))\n",
    "probabilities = [[prob for topic, prob in row] for row in topic_probabilities]\n",
    "most_probable = [prob.index(max(prob)) for prob in probabilities]\n",
    "df6['Probable_Topic'] = most_probable"
   ]
  },
  {
   "cell_type": "markdown",
   "id": "e00bde23",
   "metadata": {},
   "source": [
    "##### Feature 2 generation: Post metadata's clusters Labels"
   ]
  },
  {
   "cell_type": "code",
   "execution_count": 7,
   "id": "5208f70b",
   "metadata": {},
   "outputs": [],
   "source": [
    "#use get_dummies_special_values(), generate dummilized label for columns 'post_replies' and 'post_favourites'\n",
    "post_replies_flags = get_dummies_special_values(df6['post_replies'],0)\n",
    "post_favourites_flags = get_dummies_special_values(df6['post_favourites'],0)\n",
    "post_flags = pd.DataFrame(post_replies_flags,columns = ['zero_pr','nonzero_pr'])\n",
    "post_flags[['zero_pf','nonzero_pf']] = post_favourites_flags\n",
    "\n",
    "#Standardlize the dummilized label for these two columns\n",
    "post_standard_data = StandardScaler().fit_transform(post_flags)\n",
    "\n",
    "#set up K-Means model to transform datas into one-column value,as the clusters' label.\n",
    "post_kmeans = KMeans(n_clusters=3,max_iter = 10000)\n",
    "post_kmeans.fit(post_standard_data)\n",
    "kMeansLables = post_kmeans.labels_\n",
    "\n",
    "#add labels as a column into dataframe(df6)\n",
    "df6['post_clusters_label'] = kMeansLables"
   ]
  },
  {
   "cell_type": "markdown",
   "id": "275c4521",
   "metadata": {},
   "source": [
    "##### Feature 3 generation: Dimensionality reduced user metadata by Principal component analysis(PCA)"
   ]
  },
  {
   "cell_type": "code",
   "execution_count": 8,
   "id": "2890778a",
   "metadata": {},
   "outputs": [],
   "source": [
    "#Select user metadata columns,then standardlize.\n",
    "user_social_data = df6[['user_followers','user_friends','user_favourites','user_tweets_count','user_tweet_count_lists']]\n",
    "standard_user_data = StandardScaler().fit_transform(user_social_data)\n",
    "\n",
    "#set up Principal component analysis(PCA) model to reduce these data into 3 columns.\n",
    "user_pca = PCA(n_components=3)\n",
    "User_data_dim = user_pca.fit_transform(user_social_data)\n",
    "\n",
    "#add PCA-operated data columns into dataframe(df6)\n",
    "df6[[\"User_dim1\",\"User_dim2\",'User_dim3']] = User_data_dim"
   ]
  },
  {
   "cell_type": "markdown",
   "id": "f3b40da3",
   "metadata": {},
   "source": [
    "# Model building & evaluation\n",
    "Once you have found the most optimal model, you should only only show the model building and evaluation here!"
   ]
  },
  {
   "cell_type": "markdown",
   "id": "416ae4ac",
   "metadata": {
    "student_input": "building_evaluation"
   },
   "source": [
    "    I used an ensemble classifier, which is divided into two sub-models: for all feature variables, versus just for NLP feature variables.\n",
    "\n",
    "    For sub-model 1, I used Random Forest and a separate decision tree. This is because they are good at dealing with large data and have the ability to avoid overfitting.\n",
    "    \n",
    "    For sub-model2, I use a Naive Bayes model with 5-Nearest Neighbors to analyse the NLP variables. Experiments proved that analysing only NLP variables resulted in much greater accuracy than global analysis, also because both models performed better in predicting NLP features.\n",
    "\n",
    "    I have dropped the use of Support Vector Machines in this model due to excessive training time, black-box effects & overfitting issues.\n",
    "\n",
    "    Since the two sub-models took different feature datasets for analysis (because of the different number of columns of X's selected), I ran each classifier individually and stored the predictions and composed new Dataframes with a dataset full of 0's and 1's that were used as predictions.\n",
    "\n",
    "    They will be used in a new voting classifier. This solves the problem that traditional voting classifier can only fit one feature dataset. The quadratic voting mechanism also avoids the risk of overfitting. However, due to the use of hard voting in this model, it may aggravate the black box effect.\n",
    "\n",
    "    This model de-predicted the results for the training data and generated the confusion matrix. The data from the matrix indicates that this model is well capable and possesses 77% accuracy and recall. Although the individual performance is not as good as the individuals in the aggregated classification, the voting mechanism stabilises the model's performance.\n"
   ]
  },
  {
   "cell_type": "code",
   "execution_count": 9,
   "id": "8480f589",
   "metadata": {},
   "outputs": [
    {
     "data": {
      "image/png": "[encoded data removed]",
      "text/plain": [
       "<Figure size 800x600 with 2 Axes>"
      ]
     },
     "metadata": {},
     "output_type": "display_data"
    },
    {
     "name": "stdout",
     "output_type": "stream",
     "text": [
      "                  precision    recall  f1-score   support\n",
      "\n",
      "True Information       0.79      0.75      0.77     11517\n",
      "  Misinformation       0.76      0.80      0.78     11357\n",
      "\n",
      "        accuracy                           0.77     22874\n",
      "       macro avg       0.78      0.77      0.77     22874\n",
      "    weighted avg       0.78      0.77      0.77     22874\n",
      "\n"
     ]
    }
   ],
   "source": [
    "df6 = df6.dropna()\n",
    "#choose the following data as feature columns for random forest and decision tree models.\n",
    "X = df6[['post_clusters_label','User_dim1','User_dim2','User_dim3','SVD1','SVD2','SVD3','SVD4','SVD5','compound','Probable_Topic']]\n",
    "#'misinformation' as the target variable.\n",
    "y = df6['misinformation']\n",
    "X_train, X_test, y_train, y_test = train_test_split(X, y, test_size=0.2)\n",
    "\n",
    "'''\n",
    "set up a random forest model as global prediction.\n",
    "in 5-fold CV, this model got 77%'s' accuracy and 0.85 as roc_auc,as average.\n",
    "'''\n",
    "rf_model = RandomForestClassifier(n_estimators=30,max_depth=24).fit(X_train,y_train)\n",
    "\n",
    "'''\n",
    "set up a decision tree model as global prediction.\n",
    "in 5-fold CV, this model got 70%'s' accuracy and 0.70 as roc_auc,as average.\n",
    "'''\n",
    "dt_model = DecisionTreeClassifier(criterion='gini',splitter='best',max_depth = 25,ccp_alpha=0.05).fit(X_train,y_train)\n",
    "# dt_scores = cross_validate(dt_model, X, y, cv=5, scoring=['accuracy', 'recall','precision',\n",
    "# 'f1', 'roc_auc'])\n",
    "\n",
    "#state a sub-group label that only related with NLP labels, for Naive Bayes and K-nearest neighbor models.\n",
    "nlp_model_label = ['SVD1','SVD2','SVD3','SVD4','SVD5','compound','Probable_Topic']\n",
    "\n",
    "'''\n",
    "set up a naive bayes model as NLP data focused prediction.\n",
    "in 5-fold CV, this model got 68%'s' accuracy and 0.76 as roc_auc,as average.\n",
    "'''\n",
    "nb_Model = GaussianNB().fit(X_train[nlp_model_label],y_train)\n",
    "# nb_scores = cross_validate(nb_Model, X[nlp_model_label], y, cv=5, scoring=['accuracy', 'recall','precision',\n",
    "# 'f1', 'roc_auc'])\n",
    "\n",
    "'''\n",
    "set up a 5-nearest neighbors model as NLP data focused prediction.\n",
    "in 5-fold CV, this model got 74%'s' accuracy and 0.82 as roc_auc,as average.\n",
    "'''\n",
    "knn_model = KNeighborsClassifier(n_neighbors=5).fit(X_train[nlp_model_label],y_train)\n",
    "# knn_scores = cross_validate(knn_model, X[nlp_model_label], y, cv=5, scoring=['accuracy', 'recall','precision',\n",
    "# 'f1', 'roc_auc'])\n",
    "\n",
    "#collect prediction value of 4 models\n",
    "rf_predict_result = rf_model.predict(X_test)\n",
    "dt_predict_result = dt_model.predict(X_test)\n",
    "nb_predict_result = nb_Model.predict(X_test[nlp_model_label])\n",
    "knn_predict_result = knn_model.predict(X_test[nlp_model_label])\n",
    "\n",
    "#combine the prediction into a dataframe,for further voting operation\n",
    "combined_features = pd.DataFrame({\n",
    "    'rf_predict_result': rf_predict_result,\n",
    "    'dt_predict_result': dt_predict_result,\n",
    "    'nb_predict_result': nb_predict_result,\n",
    "    'knn_predict_result': knn_predict_result\n",
    "})\n",
    "\n",
    "#set up a voting classifier to ensemble the above classifier.\n",
    "#voting_classifier is the final classifier of this model ,but it relies on other 4 model's prediction results.\n",
    "voting_classifier = VotingClassifier(estimators=[\n",
    "    ('rf', rf_model),\n",
    "    ('dt', dt_model),\n",
    "    ('nb', nb_Model),\n",
    "    ('knn', knn_model)\n",
    "], voting='hard')\n",
    "\n",
    "#fit the prediction of 4 classifier, voting by voting_classifier(just like voted X_test result). \n",
    "voting_classifier.fit(combined_features, y_test)\n",
    "\n",
    "#voting_pred is the final prediction of target variable.\n",
    "voting_pred = voting_classifier.predict(combined_features)\n",
    "\n",
    "#generate a confusion matrix and plot it to show this model's final performance.\n",
    "combined_cm = confusion_matrix(y_test, voting_pred) \n",
    "plt.figure(figsize=(8, 6))\n",
    "sns.heatmap(combined_cm, annot=True, cmap='Blues', fmt='g', xticklabels=['Predicted Misinformation',\n",
    "'Predicted True Information'],yticklabels=['Actual Misinformation', 'Actual True Information'])\n",
    "plt.xlabel('Predicted values')\n",
    "plt.ylabel('Actual values')\n",
    "plt.title('Confusion Matrix')\n",
    "plt.show()\n",
    "\n",
    "print(classification_report(y_test, voting_pred,target_names=['True Information','Misinformation']))"
   ]
  }
 ],
 "metadata": {
  "kernelspec": {
   "display_name": "Python 3 (ipykernel)",
   "language": "python",
   "name": "python3"
  },
  "language_info": {
   "codemirror_mode": {
    "name": "ipython",
    "version": 3
   },
   "file_extension": ".py",
   "mimetype": "text/x-python",
   "name": "python",
   "nbconvert_exporter": "python",
   "pygments_lexer": "ipython3",
   "version": "3.11.5"
  }
 },
 "nbformat": 4,
 "nbformat_minor": 5
}
